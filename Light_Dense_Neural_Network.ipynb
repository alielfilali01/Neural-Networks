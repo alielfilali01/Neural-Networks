{
  "cells": [
    {
      "cell_type": "code",
      "execution_count": 3,
      "metadata": {
        "colab": {
          "base_uri": "https://localhost:8080/"
        },
        "id": "MAYR_zo4Ypzx",
        "outputId": "ae8bccb8-2ba6-4344-ffef-28ecc66cd895"
      },
      "outputs": [
        {
          "name": "stdout",
          "output_type": "stream",
          "text": [
            "Downloading data from https://storage.googleapis.com/tensorflow/tf-keras-datasets/train-labels-idx1-ubyte.gz\n",
            "32768/29515 [=================================] - 0s 0us/step\n",
            "40960/29515 [=========================================] - 0s 0us/step\n",
            "Downloading data from https://storage.googleapis.com/tensorflow/tf-keras-datasets/train-images-idx3-ubyte.gz\n",
            "26427392/26421880 [==============================] - 1s 0us/step\n",
            "26435584/26421880 [==============================] - 1s 0us/step\n",
            "Downloading data from https://storage.googleapis.com/tensorflow/tf-keras-datasets/t10k-labels-idx1-ubyte.gz\n",
            "16384/5148 [===============================================================================================] - 0s 0us/step\n",
            "Downloading data from https://storage.googleapis.com/tensorflow/tf-keras-datasets/t10k-images-idx3-ubyte.gz\n",
            "4423680/4422102 [==============================] - 0s 0us/step\n",
            "4431872/4422102 [==============================] - 0s 0us/step\n",
            "x_train.shape = (60000, 28, 28)\n",
            "y_train.shape = (60000,)\n",
            "x_test.shape = (10000, 28, 28)\n",
            "y_test.shape = (10000,)\n"
          ]
        }
      ],
      "source": [
        "import tensorflow as tf\n",
        "from tensorflow import keras\n",
        "from keras import datasets\n",
        "\n",
        "(x_train, y_train), (x_test, y_test) = tf.keras.datasets.fashion_mnist.load_data()\n",
        "\n",
        "print('x_train.shape =',x_train.shape)\n",
        "print('y_train.shape =',y_train.shape)\n",
        "print('x_test.shape =',x_test.shape)\n",
        "print('y_test.shape =',y_test.shape)\n"
      ]
    },
    {
      "cell_type": "code",
      "execution_count": 4,
      "metadata": {
        "colab": {
          "base_uri": "https://localhost:8080/"
        },
        "id": "uCGbQ7oHYu7d",
        "outputId": "dc51bfaf-57bd-4e86-f1bd-e0dd096821f8"
      },
      "outputs": [
        {
          "name": "stdout",
          "output_type": "stream",
          "text": [
            "num_classes = 10\n"
          ]
        }
      ],
      "source": [
        "import numpy as np\n",
        "\n",
        "num_classes = np.unique(y_test).shape[0]\n",
        "print('num_classes =', num_classes)\n"
      ]
    },
    {
      "cell_type": "code",
      "execution_count": 5,
      "metadata": {
        "id": "al_vAccoYxP2"
      },
      "outputs": [],
      "source": [
        "x_train_norm = x_train/255\n",
        "x_test_norm = x_test/255\n"
      ]
    },
    {
      "cell_type": "code",
      "execution_count": 6,
      "metadata": {
        "colab": {
          "base_uri": "https://localhost:8080/"
        },
        "id": "4pPBmU4jZjFS",
        "outputId": "3c89b608-8cd2-4347-83d3-f83b23151124"
      },
      "outputs": [
        {
          "name": "stdout",
          "output_type": "stream",
          "text": [
            "final_train_imageset.shape = (60000, 28, 28, 1)\n",
            "final_test_imageset.shape = (10000, 28, 28, 1)\n",
            "y_train2.shape = (60000, 1)\n",
            "y_test2.shape = (10000, 1)\n"
          ]
        }
      ],
      "source": [
        "final_train_imageset = np.expand_dims(x_train_norm, axis = 3)\n",
        "final_test_imageset = np.expand_dims(x_test_norm, axis = 3)\n",
        "\n",
        "y_train2 = np.expand_dims(y_train, axis = 1)\n",
        "y_test2 = np.expand_dims(y_test, axis = 1)\n",
        "\n",
        "print('final_train_imageset.shape =', final_train_imageset.shape)\n",
        "print('final_test_imageset.shape =', final_test_imageset.shape)\n",
        "print('y_train2.shape =', y_train2.shape)\n",
        "print('y_test2.shape =', y_test2.shape)\n"
      ]
    },
    {
      "cell_type": "code",
      "execution_count": 7,
      "metadata": {
        "colab": {
          "base_uri": "https://localhost:8080/"
        },
        "id": "AGpSyx6rZkrB",
        "outputId": "0023ef81-7ca6-454a-af27-a69ac1992f6b"
      },
      "outputs": [
        {
          "name": "stdout",
          "output_type": "stream",
          "text": [
            "final_train_label.shape = (60000, 10)\n",
            "final_test_label.shape = (10000, 10)\n"
          ]
        }
      ],
      "source": [
        "final_train_label = keras.utils.to_categorical(y_train2, num_classes)\n",
        "final_test_label = keras.utils.to_categorical(y_test2, num_classes)\n",
        "\n",
        "print('final_train_label.shape =',final_train_label.shape)\n",
        "print('final_test_label.shape =',final_test_label.shape)\n"
      ]
    },
    {
      "cell_type": "code",
      "execution_count": 16,
      "metadata": {
        "id": "LvBfyEcHZm1w"
      },
      "outputs": [],
      "source": [
        "percentile = 1.0 # 1.0, 0.5, 0.1, 0.01\n",
        "\n",
        "NUM_NEURONS = (x_train.shape[1]*x_train.shape[2])*percentile\n",
        "NUM_LAYERS = 1\n",
        "BATCH_SIZE = 128\n",
        "NUM_EPOCHS = 100\n",
        "LEARNING_RATE = 0.0001\n",
        "EPSILON = 1e-4\n",
        "DROPOUT = 0.5 # 0.5, 0.8\n",
        "\n",
        "LOSS = 'categorical_crossentropy'\n",
        "DENSE_ACTIVATION_FUNCTION = 'relu' \n",
        "FINAL_ACTIVATION_FUNCTION = 'softmax'\n",
        "early_stop_after_epochs = 50 # stop after 50 consecutive epochs with no improvement\n",
        "validation_split = 0.1\n",
        "\n",
        "checkpointer_name = \"weights.Dense.Fashion.nLayers\"+str(NUM_LAYERS)+\".nNeurons\"+str(NUM_NEURONS)+\".act.\"+DENSE_ACTIVATION_FUNCTION+\".p\"+str(percentile)+\".dropout\"+str(DROPOUT)+\".batch\"+str(BATCH_SIZE)+\".hdf5\"\n"
      ]
    },
    {
      "cell_type": "code",
      "execution_count": 17,
      "metadata": {
        "colab": {
          "base_uri": "https://localhost:8080/"
        },
        "id": "fptxWxLFZxMN",
        "outputId": "69946fac-435e-49c2-a2ce-f2f23f1c215b"
      },
      "outputs": [
        {
          "name": "stdout",
          "output_type": "stream",
          "text": [
            "Model: \"model_1\"\n",
            "_________________________________________________________________\n",
            " Layer (type)                Output Shape              Param #   \n",
            "=================================================================\n",
            " input_3 (InputLayer)        [(None, 28, 28, 1)]       0         \n",
            "                                                                 \n",
            " dense_2 (Dense)             (None, 28, 28, 784)       1568      \n",
            "                                                                 \n",
            " dropout_1 (Dropout)         (None, 28, 28, 784)       0         \n",
            "                                                                 \n",
            " flatten_1 (Flatten)         (None, 614656)            0         \n",
            "                                                                 \n",
            " dense_3 (Dense)             (None, 10)                6146570   \n",
            "                                                                 \n",
            "=================================================================\n",
            "Total params: 6,148,138\n",
            "Trainable params: 6,148,138\n",
            "Non-trainable params: 0\n",
            "_________________________________________________________________\n"
          ]
        }
      ],
      "source": [
        "from keras.layers import *\n",
        "from keras.models import * #Model, load_model#\n",
        "\n",
        "input_shape = final_train_imageset.shape[1:]\n",
        "\n",
        "# Input tensor shape\n",
        "inputs = Input(input_shape)\n",
        "\n",
        "x = inputs\n",
        "for _ in range(NUM_LAYERS):\n",
        "    x = Dense(NUM_NEURONS, activation=DENSE_ACTIVATION_FUNCTION)(x)\n",
        "    x = Dropout(DROPOUT)(x)\n",
        "\n",
        "x = Flatten()(x)\n",
        "outputs = Dense(num_classes, activation=FINAL_ACTIVATION_FUNCTION)(x)\n",
        "\n",
        "model = Model(inputs=inputs, outputs=outputs)\n",
        "model.summary()\n"
      ]
    },
    {
      "cell_type": "code",
      "execution_count": 18,
      "metadata": {
        "id": "Q9GHdFVnZ_ed"
      },
      "outputs": [],
      "source": [
        "model.compile(\n",
        "    optimizer='Adam',\n",
        "    loss=LOSS,\n",
        "    metrics=['accuracy', 'Precision', 'Recall']\n",
        ")\n"
      ]
    },
    {
      "cell_type": "code",
      "execution_count": 19,
      "metadata": {
        "id": "naLwSnUfaL8R"
      },
      "outputs": [],
      "source": [
        "### Set model checkpointer\n",
        "\n",
        "from tensorflow.keras.callbacks import EarlyStopping, ModelCheckpoint\n",
        "\n",
        "checkpointer_best = ModelCheckpoint(filepath = checkpointer_name, \n",
        "                                    monitor='val_loss', \n",
        "                                    save_weights_only=False,\n",
        "                                    mode='auto',  \n",
        "                                    verbose = 2, \n",
        "                                    save_best_only = True\n",
        "                                    )\n",
        "                                    \n",
        "early_stopping = EarlyStopping(monitor='val_loss', patience=early_stop_after_epochs)\n"
      ]
    },
    {
      "cell_type": "code",
      "execution_count": 20,
      "metadata": {
        "colab": {
          "base_uri": "https://localhost:8080/"
        },
        "id": "WRDL8JZlaOuN",
        "outputId": "6dfd5be0-4732-4791-8ab5-f925d7c0e18a"
      },
      "outputs": [
        {
          "name": "stdout",
          "output_type": "stream",
          "text": [
            "Epoch 1/100\n",
            "422/422 [==============================] - ETA: 0s - loss: 0.5625 - accuracy: 0.8049 - precision: 0.8546 - recall: 0.7539\n",
            "Epoch 1: val_loss improved from inf to 0.50773, saving model to weights.Dense.Fashion.nLayers1.nNeurons784.0.act.relu.p1.0.dropout0.5.batch128.hdf5\n",
            "422/422 [==============================] - 28s 65ms/step - loss: 0.5625 - accuracy: 0.8049 - precision: 0.8546 - recall: 0.7539 - val_loss: 0.5077 - val_accuracy: 0.8133 - val_precision: 0.8518 - val_recall: 0.7722\n",
            "Epoch 2/100\n",
            "422/422 [==============================] - ETA: 0s - loss: 0.4596 - accuracy: 0.8414 - precision: 0.8750 - recall: 0.8063\n",
            "Epoch 2: val_loss improved from 0.50773 to 0.42182, saving model to weights.Dense.Fashion.nLayers1.nNeurons784.0.act.relu.p1.0.dropout0.5.batch128.hdf5\n",
            "422/422 [==============================] - 27s 63ms/step - loss: 0.4596 - accuracy: 0.8414 - precision: 0.8750 - recall: 0.8063 - val_loss: 0.4218 - val_accuracy: 0.8530 - val_precision: 0.8883 - val_recall: 0.8155\n",
            "Epoch 3/100\n",
            "422/422 [==============================] - ETA: 0s - loss: 0.4333 - accuracy: 0.8488 - precision: 0.8812 - recall: 0.8179\n",
            "Epoch 3: val_loss did not improve from 0.42182\n",
            "422/422 [==============================] - 26s 62ms/step - loss: 0.4333 - accuracy: 0.8488 - precision: 0.8812 - recall: 0.8179 - val_loss: 0.4505 - val_accuracy: 0.8387 - val_precision: 0.8659 - val_recall: 0.8133\n",
            "Epoch 4/100\n",
            "422/422 [==============================] - ETA: 0s - loss: 0.4185 - accuracy: 0.8531 - precision: 0.8834 - recall: 0.8244\n",
            "Epoch 4: val_loss improved from 0.42182 to 0.40706, saving model to weights.Dense.Fashion.nLayers1.nNeurons784.0.act.relu.p1.0.dropout0.5.batch128.hdf5\n",
            "422/422 [==============================] - 27s 64ms/step - loss: 0.4185 - accuracy: 0.8531 - precision: 0.8834 - recall: 0.8244 - val_loss: 0.4071 - val_accuracy: 0.8585 - val_precision: 0.8852 - val_recall: 0.8312\n",
            "Epoch 5/100\n",
            "422/422 [==============================] - ETA: 0s - loss: 0.4074 - accuracy: 0.8573 - precision: 0.8856 - recall: 0.8299\n",
            "Epoch 5: val_loss did not improve from 0.40706\n",
            "422/422 [==============================] - 26s 62ms/step - loss: 0.4074 - accuracy: 0.8573 - precision: 0.8856 - recall: 0.8299 - val_loss: 0.4215 - val_accuracy: 0.8467 - val_precision: 0.8756 - val_recall: 0.8153\n",
            "Epoch 6/100\n",
            "422/422 [==============================] - ETA: 0s - loss: 0.3974 - accuracy: 0.8602 - precision: 0.8877 - recall: 0.8348\n",
            "Epoch 6: val_loss did not improve from 0.40706\n",
            "422/422 [==============================] - 26s 62ms/step - loss: 0.3974 - accuracy: 0.8602 - precision: 0.8877 - recall: 0.8348 - val_loss: 0.4106 - val_accuracy: 0.8515 - val_precision: 0.8832 - val_recall: 0.8245\n",
            "Epoch 7/100\n",
            "422/422 [==============================] - ETA: 0s - loss: 0.3918 - accuracy: 0.8618 - precision: 0.8885 - recall: 0.8356\n",
            "Epoch 7: val_loss improved from 0.40706 to 0.38830, saving model to weights.Dense.Fashion.nLayers1.nNeurons784.0.act.relu.p1.0.dropout0.5.batch128.hdf5\n",
            "422/422 [==============================] - 26s 62ms/step - loss: 0.3918 - accuracy: 0.8618 - precision: 0.8885 - recall: 0.8356 - val_loss: 0.3883 - val_accuracy: 0.8613 - val_precision: 0.8918 - val_recall: 0.8328\n",
            "Epoch 8/100\n",
            "422/422 [==============================] - ETA: 0s - loss: 0.3838 - accuracy: 0.8652 - precision: 0.8912 - recall: 0.8396\n",
            "Epoch 8: val_loss did not improve from 0.38830\n",
            "422/422 [==============================] - 26s 62ms/step - loss: 0.3838 - accuracy: 0.8652 - precision: 0.8912 - recall: 0.8396 - val_loss: 0.4453 - val_accuracy: 0.8428 - val_precision: 0.8692 - val_recall: 0.8087\n",
            "Epoch 9/100\n",
            "422/422 [==============================] - ETA: 0s - loss: 0.3830 - accuracy: 0.8648 - precision: 0.8913 - recall: 0.8395\n",
            "Epoch 9: val_loss did not improve from 0.38830\n",
            "422/422 [==============================] - 26s 62ms/step - loss: 0.3830 - accuracy: 0.8648 - precision: 0.8913 - recall: 0.8395 - val_loss: 0.4115 - val_accuracy: 0.8537 - val_precision: 0.8811 - val_recall: 0.8288\n",
            "Epoch 10/100\n",
            "422/422 [==============================] - ETA: 0s - loss: 0.3756 - accuracy: 0.8671 - precision: 0.8937 - recall: 0.8433\n",
            "Epoch 10: val_loss improved from 0.38830 to 0.38244, saving model to weights.Dense.Fashion.nLayers1.nNeurons784.0.act.relu.p1.0.dropout0.5.batch128.hdf5\n",
            "422/422 [==============================] - 27s 63ms/step - loss: 0.3756 - accuracy: 0.8671 - precision: 0.8937 - recall: 0.8433 - val_loss: 0.3824 - val_accuracy: 0.8645 - val_precision: 0.8886 - val_recall: 0.8378\n",
            "Epoch 11/100\n",
            "422/422 [==============================] - ETA: 0s - loss: 0.3711 - accuracy: 0.8681 - precision: 0.8935 - recall: 0.8445\n",
            "Epoch 11: val_loss did not improve from 0.38244\n",
            "422/422 [==============================] - 26s 62ms/step - loss: 0.3711 - accuracy: 0.8681 - precision: 0.8935 - recall: 0.8445 - val_loss: 0.3998 - val_accuracy: 0.8590 - val_precision: 0.8849 - val_recall: 0.8367\n",
            "Epoch 12/100\n",
            "422/422 [==============================] - ETA: 0s - loss: 0.3663 - accuracy: 0.8705 - precision: 0.8952 - recall: 0.8474\n",
            "Epoch 12: val_loss improved from 0.38244 to 0.37262, saving model to weights.Dense.Fashion.nLayers1.nNeurons784.0.act.relu.p1.0.dropout0.5.batch128.hdf5\n",
            "422/422 [==============================] - 26s 63ms/step - loss: 0.3663 - accuracy: 0.8705 - precision: 0.8952 - recall: 0.8474 - val_loss: 0.3726 - val_accuracy: 0.8677 - val_precision: 0.8945 - val_recall: 0.8448\n",
            "Epoch 13/100\n",
            "422/422 [==============================] - ETA: 0s - loss: 0.3552 - accuracy: 0.8739 - precision: 0.8971 - recall: 0.8511\n",
            "Epoch 13: val_loss did not improve from 0.37262\n",
            "422/422 [==============================] - 26s 62ms/step - loss: 0.3552 - accuracy: 0.8739 - precision: 0.8971 - recall: 0.8511 - val_loss: 0.3747 - val_accuracy: 0.8673 - val_precision: 0.8954 - val_recall: 0.8473\n",
            "Epoch 14/100\n",
            "422/422 [==============================] - ETA: 0s - loss: 0.3564 - accuracy: 0.8729 - precision: 0.8975 - recall: 0.8501\n",
            "Epoch 14: val_loss did not improve from 0.37262\n",
            "422/422 [==============================] - 26s 62ms/step - loss: 0.3564 - accuracy: 0.8729 - precision: 0.8975 - recall: 0.8501 - val_loss: 0.3988 - val_accuracy: 0.8570 - val_precision: 0.8843 - val_recall: 0.8307\n",
            "Epoch 15/100\n",
            "422/422 [==============================] - ETA: 0s - loss: 0.3433 - accuracy: 0.8772 - precision: 0.9010 - recall: 0.8558\n",
            "Epoch 15: val_loss did not improve from 0.37262\n",
            "422/422 [==============================] - 26s 62ms/step - loss: 0.3433 - accuracy: 0.8772 - precision: 0.9010 - recall: 0.8558 - val_loss: 0.3769 - val_accuracy: 0.8662 - val_precision: 0.8928 - val_recall: 0.8428\n",
            "Epoch 16/100\n",
            "422/422 [==============================] - ETA: 0s - loss: 0.3385 - accuracy: 0.8787 - precision: 0.9012 - recall: 0.8581\n",
            "Epoch 16: val_loss improved from 0.37262 to 0.36122, saving model to weights.Dense.Fashion.nLayers1.nNeurons784.0.act.relu.p1.0.dropout0.5.batch128.hdf5\n",
            "422/422 [==============================] - 26s 63ms/step - loss: 0.3385 - accuracy: 0.8787 - precision: 0.9012 - recall: 0.8581 - val_loss: 0.3612 - val_accuracy: 0.8717 - val_precision: 0.8967 - val_recall: 0.8505\n",
            "Epoch 17/100\n",
            "422/422 [==============================] - ETA: 0s - loss: 0.3317 - accuracy: 0.8807 - precision: 0.9031 - recall: 0.8610\n",
            "Epoch 17: val_loss did not improve from 0.36122\n",
            "422/422 [==============================] - 26s 62ms/step - loss: 0.3317 - accuracy: 0.8807 - precision: 0.9031 - recall: 0.8610 - val_loss: 0.3704 - val_accuracy: 0.8673 - val_precision: 0.8877 - val_recall: 0.8488\n",
            "Epoch 18/100\n",
            "422/422 [==============================] - ETA: 0s - loss: 0.3286 - accuracy: 0.8818 - precision: 0.9042 - recall: 0.8623\n",
            "Epoch 18: val_loss did not improve from 0.36122\n",
            "422/422 [==============================] - 26s 63ms/step - loss: 0.3286 - accuracy: 0.8818 - precision: 0.9042 - recall: 0.8623 - val_loss: 0.3830 - val_accuracy: 0.8633 - val_precision: 0.8845 - val_recall: 0.8477\n",
            "Epoch 19/100\n",
            "422/422 [==============================] - ETA: 0s - loss: 0.3237 - accuracy: 0.8835 - precision: 0.9047 - recall: 0.8635\n",
            "Epoch 19: val_loss did not improve from 0.36122\n",
            "422/422 [==============================] - 26s 63ms/step - loss: 0.3237 - accuracy: 0.8835 - precision: 0.9047 - recall: 0.8635 - val_loss: 0.3631 - val_accuracy: 0.8693 - val_precision: 0.8897 - val_recall: 0.8512\n",
            "Epoch 20/100\n",
            "422/422 [==============================] - ETA: 0s - loss: 0.3223 - accuracy: 0.8841 - precision: 0.9062 - recall: 0.8645\n",
            "Epoch 20: val_loss did not improve from 0.36122\n",
            "422/422 [==============================] - 26s 62ms/step - loss: 0.3223 - accuracy: 0.8841 - precision: 0.9062 - recall: 0.8645 - val_loss: 0.3619 - val_accuracy: 0.8742 - val_precision: 0.8928 - val_recall: 0.8553\n",
            "Epoch 21/100\n",
            "422/422 [==============================] - ETA: 0s - loss: 0.3181 - accuracy: 0.8849 - precision: 0.9059 - recall: 0.8661\n",
            "Epoch 21: val_loss improved from 0.36122 to 0.35998, saving model to weights.Dense.Fashion.nLayers1.nNeurons784.0.act.relu.p1.0.dropout0.5.batch128.hdf5\n",
            "422/422 [==============================] - 27s 63ms/step - loss: 0.3181 - accuracy: 0.8849 - precision: 0.9059 - recall: 0.8661 - val_loss: 0.3600 - val_accuracy: 0.8707 - val_precision: 0.8894 - val_recall: 0.8512\n",
            "Epoch 22/100\n",
            "422/422 [==============================] - ETA: 0s - loss: 0.3147 - accuracy: 0.8856 - precision: 0.9066 - recall: 0.8676\n",
            "Epoch 22: val_loss improved from 0.35998 to 0.34811, saving model to weights.Dense.Fashion.nLayers1.nNeurons784.0.act.relu.p1.0.dropout0.5.batch128.hdf5\n",
            "422/422 [==============================] - 27s 63ms/step - loss: 0.3147 - accuracy: 0.8856 - precision: 0.9066 - recall: 0.8676 - val_loss: 0.3481 - val_accuracy: 0.8722 - val_precision: 0.8959 - val_recall: 0.8547\n",
            "Epoch 23/100\n",
            "422/422 [==============================] - ETA: 0s - loss: 0.3119 - accuracy: 0.8879 - precision: 0.9074 - recall: 0.8694\n",
            "Epoch 23: val_loss did not improve from 0.34811\n",
            "422/422 [==============================] - 27s 64ms/step - loss: 0.3119 - accuracy: 0.8879 - precision: 0.9074 - recall: 0.8694 - val_loss: 0.3654 - val_accuracy: 0.8683 - val_precision: 0.8940 - val_recall: 0.8473\n",
            "Epoch 24/100\n",
            "422/422 [==============================] - ETA: 0s - loss: 0.3088 - accuracy: 0.8890 - precision: 0.9090 - recall: 0.8712\n",
            "Epoch 24: val_loss improved from 0.34811 to 0.34785, saving model to weights.Dense.Fashion.nLayers1.nNeurons784.0.act.relu.p1.0.dropout0.5.batch128.hdf5\n",
            "422/422 [==============================] - 27s 64ms/step - loss: 0.3088 - accuracy: 0.8890 - precision: 0.9090 - recall: 0.8712 - val_loss: 0.3479 - val_accuracy: 0.8750 - val_precision: 0.8926 - val_recall: 0.8572\n",
            "Epoch 25/100\n",
            "422/422 [==============================] - ETA: 0s - loss: 0.3062 - accuracy: 0.8884 - precision: 0.9084 - recall: 0.8696\n",
            "Epoch 25: val_loss did not improve from 0.34785\n",
            "422/422 [==============================] - 26s 63ms/step - loss: 0.3062 - accuracy: 0.8884 - precision: 0.9084 - recall: 0.8696 - val_loss: 0.3489 - val_accuracy: 0.8753 - val_precision: 0.8954 - val_recall: 0.8590\n",
            "Epoch 26/100\n",
            "422/422 [==============================] - ETA: 0s - loss: 0.3046 - accuracy: 0.8888 - precision: 0.9074 - recall: 0.8720\n",
            "Epoch 26: val_loss did not improve from 0.34785\n",
            "422/422 [==============================] - 26s 63ms/step - loss: 0.3046 - accuracy: 0.8888 - precision: 0.9074 - recall: 0.8720 - val_loss: 0.3490 - val_accuracy: 0.8750 - val_precision: 0.8933 - val_recall: 0.8553\n",
            "Epoch 27/100\n",
            "422/422 [==============================] - ETA: 0s - loss: 0.3025 - accuracy: 0.8886 - precision: 0.9080 - recall: 0.8714\n",
            "Epoch 27: val_loss did not improve from 0.34785\n",
            "422/422 [==============================] - 27s 63ms/step - loss: 0.3025 - accuracy: 0.8886 - precision: 0.9080 - recall: 0.8714 - val_loss: 0.3581 - val_accuracy: 0.8673 - val_precision: 0.8896 - val_recall: 0.8503\n",
            "Epoch 28/100\n",
            "422/422 [==============================] - ETA: 0s - loss: 0.3024 - accuracy: 0.8906 - precision: 0.9095 - recall: 0.8728\n",
            "Epoch 28: val_loss improved from 0.34785 to 0.34471, saving model to weights.Dense.Fashion.nLayers1.nNeurons784.0.act.relu.p1.0.dropout0.5.batch128.hdf5\n",
            "422/422 [==============================] - 27s 63ms/step - loss: 0.3024 - accuracy: 0.8906 - precision: 0.9095 - recall: 0.8728 - val_loss: 0.3447 - val_accuracy: 0.8738 - val_precision: 0.8956 - val_recall: 0.8608\n",
            "Epoch 29/100\n",
            "422/422 [==============================] - ETA: 0s - loss: 0.2982 - accuracy: 0.8920 - precision: 0.9099 - recall: 0.8749\n",
            "Epoch 29: val_loss did not improve from 0.34471\n",
            "422/422 [==============================] - 26s 63ms/step - loss: 0.2982 - accuracy: 0.8920 - precision: 0.9099 - recall: 0.8749 - val_loss: 0.3547 - val_accuracy: 0.8727 - val_precision: 0.8939 - val_recall: 0.8552\n",
            "Epoch 30/100\n",
            "422/422 [==============================] - ETA: 0s - loss: 0.2967 - accuracy: 0.8924 - precision: 0.9120 - recall: 0.8756\n",
            "Epoch 30: val_loss did not improve from 0.34471\n",
            "422/422 [==============================] - 26s 63ms/step - loss: 0.2967 - accuracy: 0.8924 - precision: 0.9120 - recall: 0.8756 - val_loss: 0.3576 - val_accuracy: 0.8720 - val_precision: 0.8931 - val_recall: 0.8577\n",
            "Epoch 31/100\n",
            "422/422 [==============================] - ETA: 0s - loss: 0.2963 - accuracy: 0.8919 - precision: 0.9114 - recall: 0.8761\n",
            "Epoch 31: val_loss did not improve from 0.34471\n",
            "422/422 [==============================] - 27s 63ms/step - loss: 0.2963 - accuracy: 0.8919 - precision: 0.9114 - recall: 0.8761 - val_loss: 0.3492 - val_accuracy: 0.8742 - val_precision: 0.8956 - val_recall: 0.8568\n",
            "Epoch 32/100\n",
            "422/422 [==============================] - ETA: 0s - loss: 0.2958 - accuracy: 0.8919 - precision: 0.9105 - recall: 0.8748\n",
            "Epoch 32: val_loss did not improve from 0.34471\n",
            "422/422 [==============================] - 26s 63ms/step - loss: 0.2958 - accuracy: 0.8919 - precision: 0.9105 - recall: 0.8748 - val_loss: 0.3643 - val_accuracy: 0.8725 - val_precision: 0.8903 - val_recall: 0.8538\n",
            "Epoch 33/100\n",
            "422/422 [==============================] - ETA: 0s - loss: 0.2937 - accuracy: 0.8931 - precision: 0.9110 - recall: 0.8769\n",
            "Epoch 33: val_loss did not improve from 0.34471\n",
            "422/422 [==============================] - 26s 63ms/step - loss: 0.2937 - accuracy: 0.8931 - precision: 0.9110 - recall: 0.8769 - val_loss: 0.3506 - val_accuracy: 0.8755 - val_precision: 0.8969 - val_recall: 0.8587\n",
            "Epoch 34/100\n",
            "422/422 [==============================] - ETA: 0s - loss: 0.2961 - accuracy: 0.8915 - precision: 0.9102 - recall: 0.8756\n",
            "Epoch 34: val_loss did not improve from 0.34471\n",
            "422/422 [==============================] - 26s 63ms/step - loss: 0.2961 - accuracy: 0.8915 - precision: 0.9102 - recall: 0.8756 - val_loss: 0.3603 - val_accuracy: 0.8715 - val_precision: 0.8910 - val_recall: 0.8580\n",
            "Epoch 35/100\n",
            "422/422 [==============================] - ETA: 0s - loss: 0.2925 - accuracy: 0.8925 - precision: 0.9115 - recall: 0.8764\n",
            "Epoch 35: val_loss did not improve from 0.34471\n",
            "422/422 [==============================] - 27s 63ms/step - loss: 0.2925 - accuracy: 0.8925 - precision: 0.9115 - recall: 0.8764 - val_loss: 0.3694 - val_accuracy: 0.8678 - val_precision: 0.8887 - val_recall: 0.8532\n",
            "Epoch 36/100\n",
            "422/422 [==============================] - ETA: 0s - loss: 0.2911 - accuracy: 0.8924 - precision: 0.9104 - recall: 0.8761\n",
            "Epoch 36: val_loss did not improve from 0.34471\n",
            "422/422 [==============================] - 26s 63ms/step - loss: 0.2911 - accuracy: 0.8924 - precision: 0.9104 - recall: 0.8761 - val_loss: 0.3513 - val_accuracy: 0.8750 - val_precision: 0.8979 - val_recall: 0.8575\n",
            "Epoch 37/100\n",
            "422/422 [==============================] - ETA: 0s - loss: 0.2891 - accuracy: 0.8937 - precision: 0.9122 - recall: 0.8775\n",
            "Epoch 37: val_loss did not improve from 0.34471\n",
            "422/422 [==============================] - 26s 63ms/step - loss: 0.2891 - accuracy: 0.8937 - precision: 0.9122 - recall: 0.8775 - val_loss: 0.3537 - val_accuracy: 0.8745 - val_precision: 0.8921 - val_recall: 0.8575\n",
            "Epoch 38/100\n",
            "422/422 [==============================] - ETA: 0s - loss: 0.2864 - accuracy: 0.8951 - precision: 0.9122 - recall: 0.8787\n",
            "Epoch 38: val_loss did not improve from 0.34471\n",
            "422/422 [==============================] - 26s 63ms/step - loss: 0.2864 - accuracy: 0.8951 - precision: 0.9122 - recall: 0.8787 - val_loss: 0.3590 - val_accuracy: 0.8752 - val_precision: 0.8943 - val_recall: 0.8600\n",
            "Epoch 39/100\n",
            "422/422 [==============================] - ETA: 0s - loss: 0.2876 - accuracy: 0.8947 - precision: 0.9120 - recall: 0.8789\n",
            "Epoch 39: val_loss did not improve from 0.34471\n",
            "422/422 [==============================] - 27s 63ms/step - loss: 0.2876 - accuracy: 0.8947 - precision: 0.9120 - recall: 0.8789 - val_loss: 0.3483 - val_accuracy: 0.8782 - val_precision: 0.8952 - val_recall: 0.8602\n",
            "Epoch 40/100\n",
            "422/422 [==============================] - ETA: 0s - loss: 0.2889 - accuracy: 0.8949 - precision: 0.9126 - recall: 0.8786\n",
            "Epoch 40: val_loss did not improve from 0.34471\n",
            "422/422 [==============================] - 27s 65ms/step - loss: 0.2889 - accuracy: 0.8949 - precision: 0.9126 - recall: 0.8786 - val_loss: 0.3551 - val_accuracy: 0.8768 - val_precision: 0.8958 - val_recall: 0.8622\n",
            "Epoch 41/100\n",
            "422/422 [==============================] - ETA: 0s - loss: 0.2860 - accuracy: 0.8945 - precision: 0.9132 - recall: 0.8782\n",
            "Epoch 41: val_loss did not improve from 0.34471\n",
            "422/422 [==============================] - 27s 64ms/step - loss: 0.2860 - accuracy: 0.8945 - precision: 0.9132 - recall: 0.8782 - val_loss: 0.3549 - val_accuracy: 0.8768 - val_precision: 0.8950 - val_recall: 0.8620\n",
            "Epoch 42/100\n",
            "422/422 [==============================] - ETA: 0s - loss: 0.2836 - accuracy: 0.8958 - precision: 0.9122 - recall: 0.8793\n",
            "Epoch 42: val_loss did not improve from 0.34471\n",
            "422/422 [==============================] - 27s 65ms/step - loss: 0.2836 - accuracy: 0.8958 - precision: 0.9122 - recall: 0.8793 - val_loss: 0.3499 - val_accuracy: 0.8760 - val_precision: 0.8932 - val_recall: 0.8627\n",
            "Epoch 43/100\n",
            "422/422 [==============================] - ETA: 0s - loss: 0.2834 - accuracy: 0.8974 - precision: 0.9142 - recall: 0.8814\n",
            "Epoch 43: val_loss did not improve from 0.34471\n",
            "422/422 [==============================] - 27s 65ms/step - loss: 0.2834 - accuracy: 0.8974 - precision: 0.9142 - recall: 0.8814 - val_loss: 0.3505 - val_accuracy: 0.8782 - val_precision: 0.8965 - val_recall: 0.8617\n",
            "Epoch 44/100\n",
            "422/422 [==============================] - ETA: 0s - loss: 0.2822 - accuracy: 0.8964 - precision: 0.9136 - recall: 0.8810\n",
            "Epoch 44: val_loss did not improve from 0.34471\n",
            "422/422 [==============================] - 27s 65ms/step - loss: 0.2822 - accuracy: 0.8964 - precision: 0.9136 - recall: 0.8810 - val_loss: 0.3457 - val_accuracy: 0.8785 - val_precision: 0.8983 - val_recall: 0.8608\n",
            "Epoch 45/100\n",
            "422/422 [==============================] - ETA: 0s - loss: 0.2835 - accuracy: 0.8961 - precision: 0.9137 - recall: 0.8797\n",
            "Epoch 45: val_loss did not improve from 0.34471\n",
            "422/422 [==============================] - 27s 65ms/step - loss: 0.2835 - accuracy: 0.8961 - precision: 0.9137 - recall: 0.8797 - val_loss: 0.3627 - val_accuracy: 0.8747 - val_precision: 0.8914 - val_recall: 0.8593\n",
            "Epoch 46/100\n",
            "422/422 [==============================] - ETA: 0s - loss: 0.2813 - accuracy: 0.8954 - precision: 0.9134 - recall: 0.8804\n",
            "Epoch 46: val_loss did not improve from 0.34471\n",
            "422/422 [==============================] - 27s 65ms/step - loss: 0.2813 - accuracy: 0.8954 - precision: 0.9134 - recall: 0.8804 - val_loss: 0.3593 - val_accuracy: 0.8710 - val_precision: 0.8915 - val_recall: 0.8587\n",
            "Epoch 47/100\n",
            "422/422 [==============================] - ETA: 0s - loss: 0.2832 - accuracy: 0.8960 - precision: 0.9129 - recall: 0.8796\n",
            "Epoch 47: val_loss did not improve from 0.34471\n",
            "422/422 [==============================] - 27s 64ms/step - loss: 0.2832 - accuracy: 0.8960 - precision: 0.9129 - recall: 0.8796 - val_loss: 0.3518 - val_accuracy: 0.8762 - val_precision: 0.8935 - val_recall: 0.8598\n",
            "Epoch 48/100\n",
            "422/422 [==============================] - ETA: 0s - loss: 0.2809 - accuracy: 0.8957 - precision: 0.9139 - recall: 0.8806\n",
            "Epoch 48: val_loss did not improve from 0.34471\n",
            "422/422 [==============================] - 27s 64ms/step - loss: 0.2809 - accuracy: 0.8957 - precision: 0.9139 - recall: 0.8806 - val_loss: 0.3514 - val_accuracy: 0.8733 - val_precision: 0.8925 - val_recall: 0.8595\n",
            "Epoch 49/100\n",
            "422/422 [==============================] - ETA: 0s - loss: 0.2806 - accuracy: 0.8976 - precision: 0.9146 - recall: 0.8827\n",
            "Epoch 49: val_loss did not improve from 0.34471\n",
            "422/422 [==============================] - 27s 65ms/step - loss: 0.2806 - accuracy: 0.8976 - precision: 0.9146 - recall: 0.8827 - val_loss: 0.3525 - val_accuracy: 0.8770 - val_precision: 0.8954 - val_recall: 0.8602\n",
            "Epoch 50/100\n",
            "422/422 [==============================] - ETA: 0s - loss: 0.2774 - accuracy: 0.8981 - precision: 0.9152 - recall: 0.8825\n",
            "Epoch 50: val_loss did not improve from 0.34471\n",
            "422/422 [==============================] - 27s 65ms/step - loss: 0.2774 - accuracy: 0.8981 - precision: 0.9152 - recall: 0.8825 - val_loss: 0.3549 - val_accuracy: 0.8753 - val_precision: 0.8931 - val_recall: 0.8602\n",
            "Epoch 51/100\n",
            "422/422 [==============================] - ETA: 0s - loss: 0.2786 - accuracy: 0.8981 - precision: 0.9152 - recall: 0.8830\n",
            "Epoch 51: val_loss did not improve from 0.34471\n",
            "422/422 [==============================] - 27s 65ms/step - loss: 0.2786 - accuracy: 0.8981 - precision: 0.9152 - recall: 0.8830 - val_loss: 0.3613 - val_accuracy: 0.8770 - val_precision: 0.8929 - val_recall: 0.8600\n",
            "Epoch 52/100\n",
            "422/422 [==============================] - ETA: 0s - loss: 0.2783 - accuracy: 0.8984 - precision: 0.9144 - recall: 0.8827\n",
            "Epoch 52: val_loss did not improve from 0.34471\n",
            "422/422 [==============================] - 27s 65ms/step - loss: 0.2783 - accuracy: 0.8984 - precision: 0.9144 - recall: 0.8827 - val_loss: 0.3542 - val_accuracy: 0.8750 - val_precision: 0.8954 - val_recall: 0.8613\n",
            "Epoch 53/100\n",
            "422/422 [==============================] - ETA: 0s - loss: 0.2764 - accuracy: 0.8980 - precision: 0.9154 - recall: 0.8828\n",
            "Epoch 53: val_loss did not improve from 0.34471\n",
            "422/422 [==============================] - 27s 65ms/step - loss: 0.2764 - accuracy: 0.8980 - precision: 0.9154 - recall: 0.8828 - val_loss: 0.3473 - val_accuracy: 0.8792 - val_precision: 0.8950 - val_recall: 0.8637\n",
            "Epoch 54/100\n",
            "422/422 [==============================] - ETA: 0s - loss: 0.2744 - accuracy: 0.8998 - precision: 0.9162 - recall: 0.8850\n",
            "Epoch 54: val_loss did not improve from 0.34471\n",
            "422/422 [==============================] - 27s 65ms/step - loss: 0.2744 - accuracy: 0.8998 - precision: 0.9162 - recall: 0.8850 - val_loss: 0.3613 - val_accuracy: 0.8752 - val_precision: 0.8924 - val_recall: 0.8638\n",
            "Epoch 55/100\n",
            "422/422 [==============================] - ETA: 0s - loss: 0.2746 - accuracy: 0.8997 - precision: 0.9156 - recall: 0.8846\n",
            "Epoch 55: val_loss did not improve from 0.34471\n",
            "422/422 [==============================] - 27s 64ms/step - loss: 0.2746 - accuracy: 0.8997 - precision: 0.9156 - recall: 0.8846 - val_loss: 0.3609 - val_accuracy: 0.8755 - val_precision: 0.8943 - val_recall: 0.8602\n",
            "Epoch 56/100\n",
            "422/422 [==============================] - ETA: 0s - loss: 0.2744 - accuracy: 0.9000 - precision: 0.9156 - recall: 0.8846\n",
            "Epoch 56: val_loss did not improve from 0.34471\n",
            "422/422 [==============================] - 27s 65ms/step - loss: 0.2744 - accuracy: 0.9000 - precision: 0.9156 - recall: 0.8846 - val_loss: 0.3684 - val_accuracy: 0.8717 - val_precision: 0.8924 - val_recall: 0.8610\n",
            "Epoch 57/100\n",
            "422/422 [==============================] - ETA: 0s - loss: 0.2756 - accuracy: 0.8991 - precision: 0.9159 - recall: 0.8846\n",
            "Epoch 57: val_loss did not improve from 0.34471\n",
            "422/422 [==============================] - 27s 64ms/step - loss: 0.2756 - accuracy: 0.8991 - precision: 0.9159 - recall: 0.8846 - val_loss: 0.3698 - val_accuracy: 0.8725 - val_precision: 0.8896 - val_recall: 0.8545\n",
            "Epoch 58/100\n",
            "422/422 [==============================] - ETA: 0s - loss: 0.2749 - accuracy: 0.8996 - precision: 0.9163 - recall: 0.8850\n",
            "Epoch 58: val_loss did not improve from 0.34471\n",
            "422/422 [==============================] - 27s 65ms/step - loss: 0.2749 - accuracy: 0.8996 - precision: 0.9163 - recall: 0.8850 - val_loss: 0.3656 - val_accuracy: 0.8755 - val_precision: 0.8917 - val_recall: 0.8607\n",
            "Epoch 59/100\n",
            "422/422 [==============================] - ETA: 0s - loss: 0.2734 - accuracy: 0.8995 - precision: 0.9159 - recall: 0.8846\n",
            "Epoch 59: val_loss did not improve from 0.34471\n",
            "422/422 [==============================] - 27s 64ms/step - loss: 0.2734 - accuracy: 0.8995 - precision: 0.9159 - recall: 0.8846 - val_loss: 0.3666 - val_accuracy: 0.8715 - val_precision: 0.8882 - val_recall: 0.8553\n",
            "Epoch 60/100\n",
            "422/422 [==============================] - ETA: 0s - loss: 0.2705 - accuracy: 0.9014 - precision: 0.9177 - recall: 0.8859\n",
            "Epoch 60: val_loss did not improve from 0.34471\n",
            "422/422 [==============================] - 27s 64ms/step - loss: 0.2705 - accuracy: 0.9014 - precision: 0.9177 - recall: 0.8859 - val_loss: 0.3599 - val_accuracy: 0.8770 - val_precision: 0.8940 - val_recall: 0.8617\n",
            "Epoch 61/100\n",
            "422/422 [==============================] - ETA: 0s - loss: 0.2725 - accuracy: 0.9009 - precision: 0.9177 - recall: 0.8860\n",
            "Epoch 61: val_loss did not improve from 0.34471\n",
            "422/422 [==============================] - 27s 64ms/step - loss: 0.2725 - accuracy: 0.9009 - precision: 0.9177 - recall: 0.8860 - val_loss: 0.3625 - val_accuracy: 0.8762 - val_precision: 0.8941 - val_recall: 0.8613\n",
            "Epoch 62/100\n",
            "422/422 [==============================] - ETA: 0s - loss: 0.2701 - accuracy: 0.9014 - precision: 0.9176 - recall: 0.8864\n",
            "Epoch 62: val_loss did not improve from 0.34471\n",
            "422/422 [==============================] - 27s 64ms/step - loss: 0.2701 - accuracy: 0.9014 - precision: 0.9176 - recall: 0.8864 - val_loss: 0.3594 - val_accuracy: 0.8763 - val_precision: 0.8973 - val_recall: 0.8595\n",
            "Epoch 63/100\n",
            "422/422 [==============================] - ETA: 0s - loss: 0.2719 - accuracy: 0.8994 - precision: 0.9158 - recall: 0.8844\n",
            "Epoch 63: val_loss did not improve from 0.34471\n",
            "422/422 [==============================] - 27s 64ms/step - loss: 0.2719 - accuracy: 0.8994 - precision: 0.9158 - recall: 0.8844 - val_loss: 0.3729 - val_accuracy: 0.8697 - val_precision: 0.8879 - val_recall: 0.8563\n",
            "Epoch 64/100\n",
            "422/422 [==============================] - ETA: 0s - loss: 0.2686 - accuracy: 0.9022 - precision: 0.9178 - recall: 0.8880\n",
            "Epoch 64: val_loss did not improve from 0.34471\n",
            "422/422 [==============================] - 27s 64ms/step - loss: 0.2686 - accuracy: 0.9022 - precision: 0.9178 - recall: 0.8880 - val_loss: 0.3691 - val_accuracy: 0.8742 - val_precision: 0.8946 - val_recall: 0.8590\n",
            "Epoch 65/100\n",
            "422/422 [==============================] - ETA: 0s - loss: 0.2679 - accuracy: 0.9009 - precision: 0.9171 - recall: 0.8864\n",
            "Epoch 65: val_loss did not improve from 0.34471\n",
            "422/422 [==============================] - 27s 64ms/step - loss: 0.2679 - accuracy: 0.9009 - precision: 0.9171 - recall: 0.8864 - val_loss: 0.3708 - val_accuracy: 0.8722 - val_precision: 0.8880 - val_recall: 0.8598\n",
            "Epoch 66/100\n",
            "422/422 [==============================] - ETA: 0s - loss: 0.2730 - accuracy: 0.9004 - precision: 0.9158 - recall: 0.8854\n",
            "Epoch 66: val_loss did not improve from 0.34471\n",
            "422/422 [==============================] - 27s 64ms/step - loss: 0.2730 - accuracy: 0.9004 - precision: 0.9158 - recall: 0.8854 - val_loss: 0.3620 - val_accuracy: 0.8757 - val_precision: 0.8944 - val_recall: 0.8625\n",
            "Epoch 67/100\n",
            "422/422 [==============================] - ETA: 0s - loss: 0.2686 - accuracy: 0.9012 - precision: 0.9163 - recall: 0.8871\n",
            "Epoch 67: val_loss did not improve from 0.34471\n",
            "422/422 [==============================] - 27s 64ms/step - loss: 0.2686 - accuracy: 0.9012 - precision: 0.9163 - recall: 0.8871 - val_loss: 0.3675 - val_accuracy: 0.8763 - val_precision: 0.8937 - val_recall: 0.8628\n",
            "Epoch 68/100\n",
            "422/422 [==============================] - ETA: 0s - loss: 0.2679 - accuracy: 0.9022 - precision: 0.9188 - recall: 0.8876\n",
            "Epoch 68: val_loss did not improve from 0.34471\n",
            "422/422 [==============================] - 27s 64ms/step - loss: 0.2679 - accuracy: 0.9022 - precision: 0.9188 - recall: 0.8876 - val_loss: 0.3725 - val_accuracy: 0.8743 - val_precision: 0.8898 - val_recall: 0.8582\n",
            "Epoch 69/100\n",
            "422/422 [==============================] - ETA: 0s - loss: 0.2662 - accuracy: 0.9024 - precision: 0.9180 - recall: 0.8876\n",
            "Epoch 69: val_loss did not improve from 0.34471\n",
            "422/422 [==============================] - 27s 64ms/step - loss: 0.2662 - accuracy: 0.9024 - precision: 0.9180 - recall: 0.8876 - val_loss: 0.3699 - val_accuracy: 0.8753 - val_precision: 0.8920 - val_recall: 0.8613\n",
            "Epoch 70/100\n",
            "422/422 [==============================] - ETA: 0s - loss: 0.2673 - accuracy: 0.9005 - precision: 0.9170 - recall: 0.8865\n",
            "Epoch 70: val_loss did not improve from 0.34471\n",
            "422/422 [==============================] - 27s 65ms/step - loss: 0.2673 - accuracy: 0.9005 - precision: 0.9170 - recall: 0.8865 - val_loss: 0.3684 - val_accuracy: 0.8777 - val_precision: 0.8925 - val_recall: 0.8632\n",
            "Epoch 71/100\n",
            "422/422 [==============================] - ETA: 0s - loss: 0.2669 - accuracy: 0.9006 - precision: 0.9168 - recall: 0.8871\n",
            "Epoch 71: val_loss did not improve from 0.34471\n",
            "422/422 [==============================] - 27s 64ms/step - loss: 0.2669 - accuracy: 0.9006 - precision: 0.9168 - recall: 0.8871 - val_loss: 0.3655 - val_accuracy: 0.8738 - val_precision: 0.8951 - val_recall: 0.8615\n",
            "Epoch 72/100\n",
            "422/422 [==============================] - ETA: 0s - loss: 0.2659 - accuracy: 0.9011 - precision: 0.9166 - recall: 0.8873\n",
            "Epoch 72: val_loss did not improve from 0.34471\n",
            "422/422 [==============================] - 27s 64ms/step - loss: 0.2659 - accuracy: 0.9011 - precision: 0.9166 - recall: 0.8873 - val_loss: 0.3592 - val_accuracy: 0.8752 - val_precision: 0.8901 - val_recall: 0.8610\n",
            "Epoch 73/100\n",
            "422/422 [==============================] - ETA: 0s - loss: 0.2670 - accuracy: 0.9015 - precision: 0.9176 - recall: 0.8873\n",
            "Epoch 73: val_loss did not improve from 0.34471\n",
            "422/422 [==============================] - 27s 64ms/step - loss: 0.2670 - accuracy: 0.9015 - precision: 0.9176 - recall: 0.8873 - val_loss: 0.3646 - val_accuracy: 0.8758 - val_precision: 0.8949 - val_recall: 0.8612\n",
            "Epoch 74/100\n",
            "422/422 [==============================] - ETA: 0s - loss: 0.2669 - accuracy: 0.9009 - precision: 0.9166 - recall: 0.8863\n",
            "Epoch 74: val_loss did not improve from 0.34471\n",
            "422/422 [==============================] - 27s 64ms/step - loss: 0.2669 - accuracy: 0.9009 - precision: 0.9166 - recall: 0.8863 - val_loss: 0.3689 - val_accuracy: 0.8750 - val_precision: 0.8910 - val_recall: 0.8607\n",
            "Epoch 75/100\n",
            "422/422 [==============================] - ETA: 0s - loss: 0.2651 - accuracy: 0.9026 - precision: 0.9180 - recall: 0.8884\n",
            "Epoch 75: val_loss did not improve from 0.34471\n",
            "422/422 [==============================] - 27s 64ms/step - loss: 0.2651 - accuracy: 0.9026 - precision: 0.9180 - recall: 0.8884 - val_loss: 0.3708 - val_accuracy: 0.8778 - val_precision: 0.8931 - val_recall: 0.8605\n",
            "Epoch 76/100\n",
            "422/422 [==============================] - ETA: 0s - loss: 0.2632 - accuracy: 0.9028 - precision: 0.9185 - recall: 0.8889\n",
            "Epoch 76: val_loss did not improve from 0.34471\n",
            "422/422 [==============================] - 27s 64ms/step - loss: 0.2632 - accuracy: 0.9028 - precision: 0.9185 - recall: 0.8889 - val_loss: 0.3605 - val_accuracy: 0.8777 - val_precision: 0.8937 - val_recall: 0.8648\n",
            "Epoch 77/100\n",
            "422/422 [==============================] - ETA: 0s - loss: 0.2675 - accuracy: 0.9005 - precision: 0.9159 - recall: 0.8862\n",
            "Epoch 77: val_loss did not improve from 0.34471\n",
            "422/422 [==============================] - 27s 64ms/step - loss: 0.2675 - accuracy: 0.9005 - precision: 0.9159 - recall: 0.8862 - val_loss: 0.3616 - val_accuracy: 0.8762 - val_precision: 0.8954 - val_recall: 0.8630\n",
            "Epoch 78/100\n",
            "422/422 [==============================] - ETA: 0s - loss: 0.2644 - accuracy: 0.9034 - precision: 0.9186 - recall: 0.8891\n",
            "Epoch 78: val_loss did not improve from 0.34471\n",
            "422/422 [==============================] - 27s 64ms/step - loss: 0.2644 - accuracy: 0.9034 - precision: 0.9186 - recall: 0.8891 - val_loss: 0.3872 - val_accuracy: 0.8702 - val_precision: 0.8895 - val_recall: 0.8572\n"
          ]
        }
      ],
      "source": [
        "### train the model\n",
        "\n",
        "list_callbacks = [checkpointer_best, early_stopping]\n",
        "\n",
        "history = model.fit(final_train_imageset, final_train_label, \n",
        "                        shuffle=True, \n",
        "                        batch_size = BATCH_SIZE, \n",
        "                        epochs = NUM_EPOCHS,\n",
        "                        validation_split = validation_split,\n",
        "                        callbacks=list_callbacks\n",
        "                    )\n"
      ]
    },
    {
      "cell_type": "code",
      "execution_count": 21,
      "metadata": {
        "colab": {
          "base_uri": "https://localhost:8080/"
        },
        "id": "gLNRwcBSadr-",
        "outputId": "5f2ea85e-4c17-4780-cb26-01f3aaf0cac6"
      },
      "outputs": [
        {
          "name": "stdout",
          "output_type": "stream",
          "text": [
            "313/313 [==============================] - 3s 8ms/step - loss: 0.3817 - accuracy: 0.8672 - precision: 0.8883 - recall: 0.8530\n"
          ]
        }
      ],
      "source": [
        "### load the trained model and evaluate using the test set\n",
        "\n",
        "model_loaded = load_model(checkpointer_name)\n",
        "result = model_loaded.evaluate(final_test_imageset, final_test_label)\n"
      ]
    },
    {
      "cell_type": "code",
      "execution_count": 23,
      "metadata": {
        "colab": {
          "base_uri": "https://localhost:8080/",
          "height": 296
        },
        "id": "EfAv_LTbaomp",
        "outputId": "ecd8300b-f84b-4b58-ee62-701a3deaaa8f"
      },
      "outputs": [
        {
          "data": {
            "text/plain": [
              "<matplotlib.legend.Legend at 0x7f178a74bb50>"
            ]
          },
          "execution_count": 23,
          "metadata": {},
          "output_type": "execute_result"
        },
        {
          "data": {
            "image/png": "[encoded data removed]",
            "text/plain": [
              "<Figure size 432x288 with 1 Axes>"
            ]
          },
          "metadata": {
            "needs_background": "light"
          },
          "output_type": "display_data"
        }
      ],
      "source": [
        "import matplotlib.pyplot as plt\n",
        "\n",
        "plt.plot(history.history['loss'])\n",
        "plt.plot(history.history['val_loss'])\n",
        "#plt.title(title)\n",
        "plt.ylabel('loss')\n",
        "plt.xlabel('epoch')\n",
        "plt.legend(['train_loss','val_loss'], loc = 'best')\n"
      ]
    },
    {
      "cell_type": "code",
      "execution_count": 24,
      "metadata": {
        "colab": {
          "base_uri": "https://localhost:8080/",
          "height": 296
        },
        "id": "wIjgFWkxappB",
        "outputId": "0a985172-de07-42f6-96be-d8d957ff3552"
      },
      "outputs": [
        {
          "data": {
            "text/plain": [
              "<matplotlib.legend.Legend at 0x7f17ba019990>"
            ]
          },
          "execution_count": 24,
          "metadata": {},
          "output_type": "execute_result"
        },
        {
          "data": {
            "image/png": "[encoded data removed]",
            "text/plain": [
              "<Figure size 432x288 with 1 Axes>"
            ]
          },
          "metadata": {
            "needs_background": "light"
          },
          "output_type": "display_data"
        }
      ],
      "source": [
        "plt.plot(history.history['accuracy'])\n",
        "plt.plot(history.history['val_accuracy'])\n",
        "#plt.title(title)\n",
        "plt.ylabel('accuracy')\n",
        "plt.xlabel('epoch')\n",
        "plt.legend(['train_accuracy','val_accuracy'], loc = 'best')\n"
      ]
    },
    {
      "cell_type": "code",
      "execution_count": null,
      "metadata": {
        "id": "fDme74kIapQh"
      },
      "outputs": [],
      "source": [
        "### loss: 0.3817 - accuracy: 0.8672 - precision: 0.8883 - recall: 0.8530S"
      ]
    }
  ],
  "metadata": {
    "accelerator": "GPU",
    "colab": {
      "name": "shallow-Dense-Network.ipynb",
      "provenance": []
    },
    "gpuClass": "standard",
    "kernelspec": {
      "display_name": "Python 3",
      "name": "python3"
    },
    "language_info": {
      "name": "python"
    }
  },
  "nbformat": 4,
  "nbformat_minor": 0
}
